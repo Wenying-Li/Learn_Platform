{
  "cells": [
    {
      "cell_type": "markdown",
      "id": "8d3b43e0",
      "metadata": {
        "id": "8d3b43e0"
      },
      "source": [
        "###  Mount Google Drive"
      ]
    },
    {
      "cell_type": "code",
      "execution_count": 1,
      "id": "45c19e77",
      "metadata": {
        "vscode": {
          "languageId": "plaintext"
        },
        "id": "45c19e77",
        "outputId": "4d8fb473-abe1-4146-d596-e6a0d508a00d",
        "colab": {
          "base_uri": "https://localhost:8080/"
        }
      },
      "outputs": [
        {
          "output_type": "stream",
          "name": "stdout",
          "text": [
            "Mounted at /content/drive\n"
          ]
        }
      ],
      "source": [
        "import os\n",
        "\n",
        "# Mount Google Drive\n",
        "from google.colab import drive\n",
        "drive.mount('/content/drive')\n",
        "\n",
        "! mkdir -p /content/drive/MyDrive/COMP4901B-Homework1\n"
      ]
    },
    {
      "cell_type": "markdown",
      "id": "420dc8b7",
      "metadata": {
        "id": "420dc8b7"
      },
      "source": [
        "### Clone Codebase"
      ]
    },
    {
      "cell_type": "code",
      "execution_count": 2,
      "id": "e20bdbde",
      "metadata": {
        "vscode": {
          "languageId": "plaintext"
        },
        "id": "e20bdbde",
        "outputId": "1a14a69c-e167-46f9-a60f-d555e34d0eed",
        "colab": {
          "base_uri": "https://localhost:8080/"
        }
      },
      "outputs": [
        {
          "output_type": "stream",
          "name": "stdout",
          "text": [
            "Cloning into 'COMP4901B-LLMs'...\n",
            "remote: Enumerating objects: 73, done.\u001b[K\n",
            "remote: Counting objects: 100% (73/73), done.\u001b[K\n",
            "remote: Compressing objects: 100% (60/60), done.\u001b[K\n",
            "remote: Total 73 (delta 22), reused 61 (delta 12), pack-reused 0 (from 0)\u001b[K\n",
            "Receiving objects: 100% (73/73), 277.03 KiB | 7.29 MiB/s, done.\n",
            "Resolving deltas: 100% (22/22), done.\n"
          ]
        }
      ],
      "source": [
        "! mkdir -p /content/drive/MyDrive/COMP4901B-Homework1\n",
        "! cd /content/drive/MyDrive/COMP4901B-Homework1 && git clone https://github.com/hkust-nlp/COMP4901B-LLMs.git"
      ]
    },
    {
      "cell_type": "markdown",
      "id": "29c6cfe0",
      "metadata": {
        "id": "29c6cfe0"
      },
      "source": [
        "### Download Dataset"
      ]
    },
    {
      "cell_type": "code",
      "execution_count": 6,
      "id": "b5510016",
      "metadata": {
        "vscode": {
          "languageId": "plaintext"
        },
        "id": "b5510016",
        "outputId": "f57151fa-69e6-4ce2-dde6-851218255345",
        "colab": {
          "base_uri": "https://localhost:8080/"
        }
      },
      "outputs": [
        {
          "output_type": "stream",
          "name": "stdout",
          "text": [
            "Starting data downloads...\n",
            "Downloading Common Crawl data to data_preprocess directory...\n",
            "/content/drive/MyDrive/COMP4901B-Homework1/COMP4901B-LLMs/assignment1/download_data.sh: line 10: cd: data_preprocess: No such file or directory\n",
            "curl: option --no-clobber: is unknown\n",
            "curl: try 'curl --help' or 'curl --manual' for more information\n",
            "gzip: data.warc.gz: No such file or directory\n",
            "curl: option --no-clobber: is unknown\n",
            "curl: try 'curl --help' or 'curl --manual' for more information\n",
            "gzip: data.wet.gz: No such file or directory\n",
            "curl: option --no-clobber: is unknown\n",
            "curl: try 'curl --help' or 'curl --manual' for more information\n",
            "gzip: data.wat.gz: No such file or directory\n",
            "Common Crawl data download completed.\n",
            "Downloading BabyLM datasets to llama_training directory...\n",
            "/content/drive/MyDrive/COMP4901B-Homework1/COMP4901B-LLMs/assignment1/download_data.sh: line 30: cd: llama_training: No such file or directory\n",
            "--2025-10-07 04:24:29--  https://osf.io/download/ywea7/\n",
            "Resolving osf.io (osf.io)... 35.190.84.173\n",
            "Connecting to osf.io (osf.io)|35.190.84.173|:443... connected.\n",
            "HTTP request sent, awaiting response... 302 FOUND\n",
            "Location: https://files.osf.io/v1/resources/ryjfm/providers/osfstorage/6819fdbfbecda878d4c61566 [following]\n",
            "--2025-10-07 04:24:29--  https://files.osf.io/v1/resources/ryjfm/providers/osfstorage/6819fdbfbecda878d4c61566\n",
            "Resolving files.osf.io (files.osf.io)... 35.186.214.196\n",
            "Connecting to files.osf.io (files.osf.io)|35.186.214.196|:443... connected.\n",
            "HTTP request sent, awaiting response... 302 Found\n",
            "Location: https://storage.googleapis.com/cos-osf-prod-files-us-east1/37a92db26f391e436febd592453084394d0c0830c8c9bdb30be781e440cdc826?response-content-disposition=attachment%3B%20filename%3D%22train_100M.zip%22%3B%20filename%2A%3DUTF-8%27%27train_100M.zip&GoogleAccessId=files-us%40cos-osf-prod.iam.gserviceaccount.com&Expires=1759811131&Signature=gD8XAJalRd%2FJgXSJL1FiMZP2WlKnrYWUCDjHCHUgvVOMeQYNS2f%2FXM%2FptMvw4ZPlict629cZatIiUFb72RhngrkK5PQaDjJtuEknCZW3sJXbrZdNJ1xgxWXsed5C%2BmLZoAU13IAE9eJVxA5YPa9vZPveBWsb5GFT8P9qILBanILkDsm012c0nAuauOGpCS%2Bh3OFG%2B3kBSlJbBeWaqp1VB%2FNglRzfgLAisH0rKsg0AeC7R6D1f4HzegkHIdP1Wg6G%2BCLEogXIYZ%2FV%2FoWJTTOrC4reUbgtYdiC5gJk6r0q%2FG8%2B1hALh1Em%2BdkCjZeI4uRRy75OuoHq0V2XxGp27JpnpQ%3D%3D [following]\n",
            "--2025-10-07 04:24:31--  https://storage.googleapis.com/cos-osf-prod-files-us-east1/37a92db26f391e436febd592453084394d0c0830c8c9bdb30be781e440cdc826?response-content-disposition=attachment%3B%20filename%3D%22train_100M.zip%22%3B%20filename%2A%3DUTF-8%27%27train_100M.zip&GoogleAccessId=files-us%40cos-osf-prod.iam.gserviceaccount.com&Expires=1759811131&Signature=gD8XAJalRd%2FJgXSJL1FiMZP2WlKnrYWUCDjHCHUgvVOMeQYNS2f%2FXM%2FptMvw4ZPlict629cZatIiUFb72RhngrkK5PQaDjJtuEknCZW3sJXbrZdNJ1xgxWXsed5C%2BmLZoAU13IAE9eJVxA5YPa9vZPveBWsb5GFT8P9qILBanILkDsm012c0nAuauOGpCS%2Bh3OFG%2B3kBSlJbBeWaqp1VB%2FNglRzfgLAisH0rKsg0AeC7R6D1f4HzegkHIdP1Wg6G%2BCLEogXIYZ%2FV%2FoWJTTOrC4reUbgtYdiC5gJk6r0q%2FG8%2B1hALh1Em%2BdkCjZeI4uRRy75OuoHq0V2XxGp27JpnpQ%3D%3D\n",
            "Resolving storage.googleapis.com (storage.googleapis.com)... 142.250.31.207, 142.251.111.207, 142.251.16.207, ...\n",
            "Connecting to storage.googleapis.com (storage.googleapis.com)|142.250.31.207|:443... connected.\n",
            "HTTP request sent, awaiting response... 200 OK\n",
            "Length: 180012897 (172M) [application/octet-stream]\n",
            "Saving to: ‘babylm_train.zip’\n",
            "\n",
            "babylm_train.zip    100%[===================>] 171.67M   156MB/s    in 1.1s    \n",
            "\n",
            "2025-10-07 04:24:32 (156 MB/s) - ‘babylm_train.zip’ saved [180012897/180012897]\n",
            "\n",
            "Archive:  babylm_train.zip\n",
            "   creating: train_100M/\n",
            "  inflating: train_100M/open_subtitles.train  \n",
            "  inflating: train_100M/bnc_spoken.train  \n",
            "  inflating: train_100M/gutenberg.train  \n",
            "  inflating: train_100M/childes.train  \n",
            "  inflating: train_100M/simple_wiki.train  \n",
            "  inflating: train_100M/switchboard.train  \n",
            "--2025-10-07 04:24:40--  https://osf.io/download/ftwu3/\n",
            "Resolving osf.io (osf.io)... 35.190.84.173\n",
            "Connecting to osf.io (osf.io)|35.190.84.173|:443... connected.\n",
            "HTTP request sent, awaiting response... 302 FOUND\n",
            "Location: https://files.osf.io/v1/resources/ryjfm/providers/osfstorage/6819fd8f48eb0e2c02c0dca2 [following]\n",
            "--2025-10-07 04:24:40--  https://files.osf.io/v1/resources/ryjfm/providers/osfstorage/6819fd8f48eb0e2c02c0dca2\n",
            "Resolving files.osf.io (files.osf.io)... 35.186.214.196\n",
            "Connecting to files.osf.io (files.osf.io)|35.186.214.196|:443... connected.\n",
            "HTTP request sent, awaiting response... 302 Found\n",
            "Location: https://storage.googleapis.com/cos-osf-prod-files-us-east1/12bd1c9c89f4f82156feb71b287d47f713429ee1292e938c6ab463a882816cef?response-content-disposition=attachment%3B%20filename%3D%22test.zip%22%3B%20filename%2A%3DUTF-8%27%27test.zip&GoogleAccessId=files-us%40cos-osf-prod.iam.gserviceaccount.com&Expires=1759811142&Signature=qm9rM1Xz8urK4lK2f2ssmF7zhNy%2F%2FSEi5Z9YMYyXUc89Mw3mkL0lJhjFmkm9Fp92eQhKFmLemEq4D9wPgDFylVQqhMD%2BhJT5Vj5sqQCNHdGnEzXaZqqlnMLlU%2BH6hgfvGKvyJGYE9j%2Bvm%2BwNUZ90J870AmLAIxZteoCcDJ1jzWeDfsP2b7a1R0vSUgNhT7dWzvj4FzT1EJegFfLlvSTu68cEer6AcyWJw%2BkLFlmYcoqCI0T9dmvDVJHpUyjmjnE57oDse%2F4YW6Cuu84bgoLAzLLcrkCUxX7hAYzujqt8Sqx1VmsbhjD353adeuLBN7rnre6fagdrlLW%2BajKADvkD2A%3D%3D [following]\n",
            "--2025-10-07 04:24:42--  https://storage.googleapis.com/cos-osf-prod-files-us-east1/12bd1c9c89f4f82156feb71b287d47f713429ee1292e938c6ab463a882816cef?response-content-disposition=attachment%3B%20filename%3D%22test.zip%22%3B%20filename%2A%3DUTF-8%27%27test.zip&GoogleAccessId=files-us%40cos-osf-prod.iam.gserviceaccount.com&Expires=1759811142&Signature=qm9rM1Xz8urK4lK2f2ssmF7zhNy%2F%2FSEi5Z9YMYyXUc89Mw3mkL0lJhjFmkm9Fp92eQhKFmLemEq4D9wPgDFylVQqhMD%2BhJT5Vj5sqQCNHdGnEzXaZqqlnMLlU%2BH6hgfvGKvyJGYE9j%2Bvm%2BwNUZ90J870AmLAIxZteoCcDJ1jzWeDfsP2b7a1R0vSUgNhT7dWzvj4FzT1EJegFfLlvSTu68cEer6AcyWJw%2BkLFlmYcoqCI0T9dmvDVJHpUyjmjnE57oDse%2F4YW6Cuu84bgoLAzLLcrkCUxX7hAYzujqt8Sqx1VmsbhjD353adeuLBN7rnre6fagdrlLW%2BajKADvkD2A%3D%3D\n",
            "Resolving storage.googleapis.com (storage.googleapis.com)... 142.250.31.207, 142.251.111.207, 142.251.16.207, ...\n",
            "Connecting to storage.googleapis.com (storage.googleapis.com)|142.250.31.207|:443... connected.\n",
            "HTTP request sent, awaiting response... 200 OK\n",
            "Length: 16977636 (16M) [application/octet-stream]\n",
            "Saving to: ‘babylm_test.zip’\n",
            "\n",
            "babylm_test.zip     100%[===================>]  16.19M   108MB/s    in 0.2s    \n",
            "\n",
            "2025-10-07 04:24:43 (108 MB/s) - ‘babylm_test.zip’ saved [16977636/16977636]\n",
            "\n",
            "Archive:  babylm_test.zip\n",
            "   creating: test/\n",
            "  inflating: test/childes.test       \n",
            "  inflating: test/switchboard.test   \n",
            "  inflating: test/bnc_spoken.test    \n",
            "  inflating: test/gutenberg.test     \n",
            "  inflating: test/open_subtitles.test  \n",
            "  inflating: test/simple_wiki.test   \n",
            "--2025-10-07 04:24:43--  https://osf.io/download/uyd7v/\n",
            "Resolving osf.io (osf.io)... 35.190.84.173\n",
            "Connecting to osf.io (osf.io)|35.190.84.173|:443... connected.\n",
            "HTTP request sent, awaiting response... 302 FOUND\n",
            "Location: https://files.osf.io/v1/resources/ryjfm/providers/osfstorage/6819fd86ff83c3467ac0dcb0 [following]\n",
            "--2025-10-07 04:24:43--  https://files.osf.io/v1/resources/ryjfm/providers/osfstorage/6819fd86ff83c3467ac0dcb0\n",
            "Resolving files.osf.io (files.osf.io)... 35.186.214.196\n",
            "Connecting to files.osf.io (files.osf.io)|35.186.214.196|:443... connected.\n",
            "HTTP request sent, awaiting response... 302 Found\n",
            "Location: https://storage.googleapis.com/cos-osf-prod-files-us-east1/b5af75aeb1ee5a36f65ee98f316fdae73b16a0ba3767cca3f3dfa5eaac2dc621?response-content-disposition=attachment%3B%20filename%3D%22dev.zip%22%3B%20filename%2A%3DUTF-8%27%27dev.zip&GoogleAccessId=files-us%40cos-osf-prod.iam.gserviceaccount.com&Expires=1759811144&Signature=iZ3ggaCUTNyULXqEfD4CACKnmCgGQo59Zjf7WfUOIOQdW7etGL0rk4mxSkUdzYw7kxA33UntwslL6PMA%2FVeCBIIa6Tu9JOuvXjvVPkIzAQ9bduOVwOKrVkgk1q2KzhPkgSnRQRjfdDAfQjW8rgnyuediiW6IyUOzhu3brFK9go%2FcM1HOy7uSnUcBMa9u53qE11vMAhk30CTURWCvUS7ShyMmGxbFYXUWDj49d7fCEkQgFJiRl1UZx62qPihfLoEq0YtssDc21UTtPb%2FmH3mCJaU9EqPQMQPhw3Ms%2Fq8cV9OA6nxmKdz%2FtoyX4Zb2YTRmxsQK9%2FbBHx%2FjiB5rYamXjA%3D%3D [following]\n",
            "--2025-10-07 04:24:44--  https://storage.googleapis.com/cos-osf-prod-files-us-east1/b5af75aeb1ee5a36f65ee98f316fdae73b16a0ba3767cca3f3dfa5eaac2dc621?response-content-disposition=attachment%3B%20filename%3D%22dev.zip%22%3B%20filename%2A%3DUTF-8%27%27dev.zip&GoogleAccessId=files-us%40cos-osf-prod.iam.gserviceaccount.com&Expires=1759811144&Signature=iZ3ggaCUTNyULXqEfD4CACKnmCgGQo59Zjf7WfUOIOQdW7etGL0rk4mxSkUdzYw7kxA33UntwslL6PMA%2FVeCBIIa6Tu9JOuvXjvVPkIzAQ9bduOVwOKrVkgk1q2KzhPkgSnRQRjfdDAfQjW8rgnyuediiW6IyUOzhu3brFK9go%2FcM1HOy7uSnUcBMa9u53qE11vMAhk30CTURWCvUS7ShyMmGxbFYXUWDj49d7fCEkQgFJiRl1UZx62qPihfLoEq0YtssDc21UTtPb%2FmH3mCJaU9EqPQMQPhw3Ms%2Fq8cV9OA6nxmKdz%2FtoyX4Zb2YTRmxsQK9%2FbBHx%2FjiB5rYamXjA%3D%3D\n",
            "Resolving storage.googleapis.com (storage.googleapis.com)... 142.250.31.207, 142.251.111.207, 142.251.16.207, ...\n",
            "Connecting to storage.googleapis.com (storage.googleapis.com)|142.250.31.207|:443... connected.\n",
            "HTTP request sent, awaiting response... 200 OK\n",
            "Length: 19264893 (18M) [application/octet-stream]\n",
            "Saving to: ‘babylm_dev.zip’\n",
            "\n",
            "babylm_dev.zip      100%[===================>]  18.37M  99.1MB/s    in 0.2s    \n",
            "\n",
            "2025-10-07 04:24:44 (99.1 MB/s) - ‘babylm_dev.zip’ saved [19264893/19264893]\n",
            "\n",
            "Archive:  babylm_dev.zip\n",
            "  inflating: dev/simple_wiki.dev     \n",
            "  inflating: dev/childes.dev         \n",
            "  inflating: dev/switchboard.dev     \n",
            "  inflating: dev/open_subtitles.dev  \n",
            "  inflating: dev/gutenberg.dev       \n",
            "  inflating: dev/bnc_spoken.dev      \n",
            "BabyLM dataset download completed.\n",
            "All downloads finished successfully!\n"
          ]
        }
      ],
      "source": [
        "! bash /content/drive/MyDrive/COMP4901B-Homework1/COMP4901B-LLMs/assignment1/download_data.sh"
      ]
    },
    {
      "cell_type": "markdown",
      "id": "dfe18aa7",
      "metadata": {
        "id": "dfe18aa7"
      },
      "source": [
        "### Start The Training"
      ]
    },
    {
      "cell_type": "code",
      "execution_count": null,
      "id": "76f6abed",
      "metadata": {
        "vscode": {
          "languageId": "plaintext"
        },
        "id": "76f6abed"
      },
      "outputs": [],
      "source": []
    }
  ],
  "metadata": {
    "language_info": {
      "name": "python"
    },
    "colab": {
      "provenance": []
    },
    "kernelspec": {
      "name": "python3",
      "display_name": "Python 3"
    }
  },
  "nbformat": 4,
  "nbformat_minor": 5
}